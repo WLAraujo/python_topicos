{
 "cells": [
  {
   "cell_type": "markdown",
   "source": [
    "# Decorators"
   ],
   "metadata": {}
  },
  {
   "cell_type": "markdown",
   "source": [
    "**Decorators:** É uma função que pega uma outra função, adiciona uma funcionalidade a ela e depois a retorna. São interessantes para adicionar funcionalidade a um código existente. O que os decorators fazem é considerado metaprogramação, pois trata-se de uma parte do programa que tenta modificar outra parte do programa, isso durante tempo de interpretação."
   ],
   "metadata": {}
  },
  {
   "cell_type": "markdown",
   "source": [
    "## Funções como objetos"
   ],
   "metadata": {}
  },
  {
   "cell_type": "markdown",
   "source": [
    "**Coisas importantes:**\n",
    "* Tudo em python, inclusive funções e classes, são objetos."
   ],
   "metadata": {}
  },
  {
   "cell_type": "code",
   "execution_count": 3,
   "source": [
    "def um(msg):\n",
    "    print(msg)\n",
    "um('Olá 1')"
   ],
   "outputs": [
    {
     "output_type": "stream",
     "name": "stdout",
     "text": [
      "Olá 1\n"
     ]
    }
   ],
   "metadata": {}
  },
  {
   "cell_type": "code",
   "execution_count": 5,
   "source": [
    "dois = um\n",
    "dois('Olá 2')"
   ],
   "outputs": [
    {
     "output_type": "stream",
     "name": "stdout",
     "text": [
      "Olá 2\n"
     ]
    }
   ],
   "metadata": {}
  },
  {
   "cell_type": "markdown",
   "source": [
    "As duas funções acima referem-se ao mesmo objeto"
   ],
   "metadata": {}
  },
  {
   "cell_type": "markdown",
   "source": [
    "**Funções de Alta Ordem:** São funções que recebem como parâmetro outras funções."
   ],
   "metadata": {}
  },
  {
   "cell_type": "code",
   "execution_count": 6,
   "source": [
    "def inc(x):\n",
    "    return x + 1\n",
    "def dec(x):\n",
    "    return x - 1\n",
    "def op(func, x):\n",
    "    return func(x)"
   ],
   "outputs": [],
   "metadata": {}
  },
  {
   "cell_type": "code",
   "execution_count": 7,
   "source": [
    "op(dec, 10)"
   ],
   "outputs": [
    {
     "output_type": "execute_result",
     "data": {
      "text/plain": [
       "9"
      ]
     },
     "metadata": {},
     "execution_count": 7
    }
   ],
   "metadata": {}
  },
  {
   "cell_type": "code",
   "execution_count": 8,
   "source": [
    "op(inc, 11)"
   ],
   "outputs": [
    {
     "output_type": "execute_result",
     "data": {
      "text/plain": [
       "12"
      ]
     },
     "metadata": {},
     "execution_count": 8
    }
   ],
   "metadata": {}
  },
  {
   "cell_type": "markdown",
   "source": [
    "Funções também podem retornar outras funções"
   ],
   "metadata": {}
  },
  {
   "cell_type": "code",
   "execution_count": 9,
   "source": [
    "def chamada():\n",
    "    def retornada():\n",
    "        print('Olá')\n",
    "    return retornada()"
   ],
   "outputs": [],
   "metadata": {}
  },
  {
   "cell_type": "code",
   "execution_count": 10,
   "source": [
    "func = chamada()"
   ],
   "outputs": [
    {
     "output_type": "stream",
     "name": "stdout",
     "text": [
      "Olá\n"
     ]
    }
   ],
   "metadata": {}
  },
  {
   "cell_type": "markdown",
   "source": [
    "## Objetos callables"
   ],
   "metadata": {}
  },
  {
   "cell_type": "markdown",
   "source": [
    "**Callables:** São objetos que tem a implementação de um método especial chamado \\_\\_call\\_\\_(). Funções e métodos são objetos callables. \n",
    "\n",
    "**Decorator:** É um callable que retorna outro callable. De maneira mais direta, um decorator é uma função que tem como parâmetro outra função, ela adiciona uma funcionalidade a essa função e então retorna. Pense em decorator como decorador de decoração."
   ],
   "metadata": {}
  },
  {
   "cell_type": "code",
   "execution_count": 41,
   "source": [
    "def funcao_dec(func):\n",
    "    def interno():\n",
    "        print(\"decorado\")\n",
    "        func()\n",
    "    return interno\n",
    "\n",
    "def funcao_base():\n",
    "    print(\"básico\")"
   ],
   "outputs": [],
   "metadata": {}
  },
  {
   "cell_type": "code",
   "execution_count": 48,
   "source": [
    "# Veja abaixo a criação de uma função decorada que junta as duas funcionalidades das funções mostradas\n",
    "funcao_decorada = funcao_dec(funcao_base)\n",
    "funcao_decorada()\n"
   ],
   "outputs": [
    {
     "output_type": "stream",
     "name": "stdout",
     "text": [
      "decorado\n",
      "básico\n"
     ]
    }
   ],
   "metadata": {}
  },
  {
   "cell_type": "markdown",
   "source": [
    "Vamos agora ver formas de declarar uma função de forma que ela já seja decorada por um decorator"
   ],
   "metadata": {}
  },
  {
   "cell_type": "code",
   "execution_count": 50,
   "source": [
    "# Primeira forma, através de uma construção comum do python\n",
    "funcao_base = funcao_dec(funcao_base)\n",
    "funcao_base()"
   ],
   "outputs": [
    {
     "output_type": "stream",
     "name": "stdout",
     "text": [
      "decorado\n",
      "decorado\n",
      "básico\n"
     ]
    }
   ],
   "metadata": {}
  },
  {
   "cell_type": "code",
   "execution_count": 51,
   "source": [
    "# Segunda forma, através do símbolo @\n",
    "@funcao_dec\n",
    "def funcao_base():\n",
    "    print(\"básico\")\n",
    "funcao_base()"
   ],
   "outputs": [
    {
     "output_type": "stream",
     "name": "stdout",
     "text": [
      "decorado\n",
      "básico\n"
     ]
    }
   ],
   "metadata": {}
  },
  {
   "cell_type": "markdown",
   "source": [
    "## Decorando funções com parâmetros"
   ],
   "metadata": {}
  },
  {
   "cell_type": "code",
   "execution_count": 57,
   "source": [
    "# Vamos tomar como exemplo o caso da divisão\n",
    "def div_esperta(func):\n",
    "    def decorada(x,y):\n",
    "        print(f\"Vou dividir {x} por {y}.\")\n",
    "        if y == 0:\n",
    "            print(\"Não podemos dividir!!!\")\n",
    "            return\n",
    "        return func(x, y)\n",
    "    return decorada\n",
    "\n",
    "@div_esperta\n",
    "def divisao(a,b):\n",
    "    print(a/b)"
   ],
   "outputs": [],
   "metadata": {}
  },
  {
   "cell_type": "code",
   "execution_count": 58,
   "source": [
    "divisao(10,2)\n",
    "divisao(2,0)"
   ],
   "outputs": [
    {
     "output_type": "stream",
     "name": "stdout",
     "text": [
      "Vou dividir 10 por 2.\n",
      "5.0\n",
      "Vou dividir 2 por 0.\n",
      "Não podemos dividir!!!\n"
     ]
    }
   ],
   "metadata": {}
  },
  {
   "cell_type": "markdown",
   "source": [
    "Veja que no caso acima o decorator funciona como um controlador de erro que nuca chama a função caso o 0 seja o divisor. O return que o decorator faz no caso especificado é do None. Vale ressaltar que o decorator sabe que estamos falando dos mesmo argumentos devido à posição dos argumentos na tupla passada com os parâmetros, como se fosse *args."
   ],
   "metadata": {}
  },
  {
   "cell_type": "markdown",
   "source": [
    "## Encadeando múltiplos decorators"
   ],
   "metadata": {}
  },
  {
   "cell_type": "code",
   "execution_count": 59,
   "source": [
    "# Veja o exemplo abaixo de encadeamento de decorators\n",
    "def estrela(func):\n",
    "    def interna(*args, **kwargs):\n",
    "        print(\"*\" * 30)\n",
    "        func(*args, **kwargs)\n",
    "        print(\"*\" * 30)\n",
    "    return interna\n",
    "\n",
    "\n",
    "def percent(func):\n",
    "    def interna(*args, **kwargs):\n",
    "        print(\"%\" * 30)\n",
    "        func(*args, **kwargs)\n",
    "        print(\"%\" * 30)\n",
    "    return interna\n",
    "\n",
    "\n",
    "@estrela\n",
    "@percent\n",
    "def printer(msg):\n",
    "    print(msg)\n",
    "\n",
    "\n",
    "printer(\"Olá, bom dia!!!\")"
   ],
   "outputs": [
    {
     "output_type": "stream",
     "name": "stdout",
     "text": [
      "******************************\n",
      "%%%%%%%%%%%%%%%%%%%%%%%%%%%%%%\n",
      "Olá, bom dia!!!\n",
      "%%%%%%%%%%%%%%%%%%%%%%%%%%%%%%\n",
      "******************************\n"
     ]
    }
   ],
   "metadata": {}
  },
  {
   "cell_type": "markdown",
   "source": [
    "Veja que ocorre um encapsulamento, assim, a função em que aplicamos o decorator estrela já é a função decorada pelo decorator percent."
   ],
   "metadata": {}
  }
 ],
 "metadata": {
  "kernelspec": {
   "name": "python3",
   "display_name": "Python 3.8.10 64-bit"
  },
  "language_info": {
   "codemirror_mode": {
    "name": "ipython",
    "version": 3
   },
   "file_extension": ".py",
   "mimetype": "text/x-python",
   "name": "python",
   "nbconvert_exporter": "python",
   "pygments_lexer": "ipython3",
   "version": "3.8.10"
  },
  "interpreter": {
   "hash": "916dbcbb3f70747c44a77c7bcd40155683ae19c65e1c03b4aa3499c5328201f1"
  }
 },
 "nbformat": 4,
 "nbformat_minor": 4
}