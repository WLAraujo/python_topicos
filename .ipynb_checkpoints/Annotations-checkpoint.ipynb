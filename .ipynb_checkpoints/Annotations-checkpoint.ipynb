{
 "cells": [
  {
   "cell_type": "markdown",
   "metadata": {},
   "source": [
    "# Function Annotations"
   ]
  },
  {
   "cell_type": "markdown",
   "metadata": {},
   "source": [
    "**Python Enhancement Proposal(PEP):** É um documento de design que descreve novas features do Python.\n",
    "    \n",
    "**PEP 3107:** Introduziu o conceito e a sintaxe de adicionar notação de metadados ao Python de maneira optativa.\n",
    "    \n",
    "**Function Annotations:** Exxpressões arbritárias que são associadas com diversas partes de uma função. Essas expressões são avaliadas em tempo de compilação, não tomando tempo no tempo de execução do Python. Essas expressões não possuem nenhum sentido dentro de Python, sendo usadas quando interpretadas por bibliotecas terceiras.\n",
    "\n",
    "**Vantagens das FAs:** Os benefícios das FAs só podem ser usados por bibliotecas terceiras, sendo que os tipos de benefícios dependem do tipo de biblioteca considerado. Algumas das vantagens são:\n",
    "* Como Python suporta tipagem dinâmica não há formas de garantir checagem de tipo. FAs fornecem uma forma de coletar informação sobre o os tipos dos parâmetros e o tipo do retorno.\n",
    "* FAs, quando usadas pelas bibliotecas podem fornecer melhores mensagem de erro.\n",
    "\n",
    "**Sintaxe das FA:** \n",
    "* Para parâmetros simples - `def funcao(a : expressao_FA, b : expressao_FA = 5):`\n",
    "* Para \\*args e \\*\\*kwargs - `def funcao(\\*args : expressao_FA, \\*\\*kwargs : expressao_FA):`\n",
    "* Para tipo do retorno - `def funcao(a : expressao_FA) -> expressao`\n"
   ]
  },
  {
   "cell_type": "code",
   "execution_count": 3,
   "metadata": {},
   "outputs": [
    {
     "name": "stdout",
     "output_type": "stream",
     "text": [
      "[1, 1, 2, 3, 5, 8, 13, 21, 34, 55]\n"
     ]
    }
   ],
   "source": [
    "# Exemplo de uso das FAs usando uma função que devolve a sequência de Fibonacci\n",
    "def fib(n:'int', saida:'list'=[]) -> 'list':\n",
    "    if n == 0:\n",
    "        return saida\n",
    "    else:\n",
    "        if len(saida) < 2:\n",
    "            saida.append(1)\n",
    "            fib(n-1, saida)\n",
    "        else:\n",
    "            ultimo = saida[-1]\n",
    "            penultimo = saida[-2]\n",
    "            saida.append(ultimo + penultimo)\n",
    "            fib(n-1, saida)\n",
    "        return saida\n",
    "print(fib(10))"
   ]
  }
 ],
 "metadata": {
  "kernelspec": {
   "display_name": "Python 3",
   "language": "python",
   "name": "python3"
  },
  "language_info": {
   "codemirror_mode": {
    "name": "ipython",
    "version": 3
   },
   "file_extension": ".py",
   "mimetype": "text/x-python",
   "name": "python",
   "nbconvert_exporter": "python",
   "pygments_lexer": "ipython3",
   "version": "3.8.10"
  }
 },
 "nbformat": 4,
 "nbformat_minor": 2
}
