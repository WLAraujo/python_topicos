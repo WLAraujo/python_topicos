{
 "cells": [
  {
   "cell_type": "markdown",
   "metadata": {},
   "source": [
    "# Closures"
   ]
  },
  {
   "cell_type": "markdown",
   "metadata": {},
   "source": [
    "**Funções Aninhadas:** São funções definidas dentro de outras funções, elas podem usar as variáveis do escopo da função em que estão dentro.\n",
    "\n",
    "**Closure:** São objetos baseados em funções onde o objeto se lembra dos valores referentes ao escopo mesmo se eles não estão presentes na memória. É como se fosse um mapeamento entre toda variável livre da função com um valor de referência que fazia parte do escopo quando a variável está chamada. Closures ocorrem quando uma função aninhada referencia a valores no seu escopo superior."
   ]
  },
  {
   "cell_type": "code",
   "execution_count": 1,
   "metadata": {},
   "outputs": [],
   "source": [
    "def func_fora(msg):\n",
    "    msg = msg\n",
    "    def func_dentro():\n",
    "        print(msg)\n",
    "    return func_dentro"
   ]
  },
  {
   "cell_type": "code",
   "execution_count": 2,
   "metadata": {},
   "outputs": [
    {
     "name": "stdout",
     "output_type": "stream",
     "text": [
      "Hello!\n"
     ]
    }
   ],
   "source": [
    "funcao = func_fora(\"Hello!\")\n",
    "funcao()"
   ]
  },
  {
   "cell_type": "markdown",
   "metadata": {},
   "source": [
    "Como vemos na função acima, os valores das variáveis da função superior, ou seja, o escopo da função inferior, são relembrados mesmo que as variáveis saim do escopo ou que a função sai do atual namespace."
   ]
  },
  {
   "cell_type": "markdown",
   "metadata": {},
   "source": [
    "**Para que servem closures:**\n",
    "* Evitar uso de valores globais pois podemos limitar o novo \"global\" a um outro escopo\n",
    "* Podemos esconder os dados ao invés de expô-los no escopo global\n",
    "* Boa alternativa para classes caso tenhamos poucas funções"
   ]
  },
  {
   "cell_type": "code",
   "execution_count": 3,
   "metadata": {},
   "outputs": [],
   "source": [
    "def escopo_multiplicador(n):\n",
    "    def multiplicador(x):\n",
    "        return x * n\n",
    "    return multiplicador"
   ]
  },
  {
   "cell_type": "code",
   "execution_count": 4,
   "metadata": {},
   "outputs": [],
   "source": [
    "vezes3 = escopo_multiplicador(3)\n",
    "vezes5 = escopo_multiplicador(5)"
   ]
  },
  {
   "cell_type": "code",
   "execution_count": 6,
   "metadata": {},
   "outputs": [
    {
     "name": "stdout",
     "output_type": "stream",
     "text": [
      "9\n",
      "15\n"
     ]
    }
   ],
   "source": [
    "print(vezes3(3))\n",
    "print(vezes5(3))"
   ]
  },
  {
   "cell_type": "code",
   "execution_count": 7,
   "metadata": {},
   "outputs": [
    {
     "name": "stdout",
     "output_type": "stream",
     "text": [
      "27\n",
      "45\n"
     ]
    }
   ],
   "source": [
    "print(vezes3(9))\n",
    "print(vezes5(9))"
   ]
  }
 ],
 "metadata": {
  "kernelspec": {
   "display_name": "Python 3",
   "language": "python",
   "name": "python3"
  },
  "language_info": {
   "codemirror_mode": {
    "name": "ipython",
    "version": 3
   },
   "file_extension": ".py",
   "mimetype": "text/x-python",
   "name": "python",
   "nbconvert_exporter": "python",
   "pygments_lexer": "ipython3",
   "version": "3.8.10"
  }
 },
 "nbformat": 4,
 "nbformat_minor": 4
}
