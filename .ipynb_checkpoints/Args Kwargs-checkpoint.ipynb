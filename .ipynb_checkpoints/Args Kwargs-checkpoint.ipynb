{
 "cells": [
  {
   "cell_type": "markdown",
   "id": "26fc094b",
   "metadata": {},
   "source": [
    "# Args Kwargs\n",
    "\n",
    "Quando não temos certeza do número de argumentos que uma variável vai receber usamos símbolos especiai:\n",
    "* \\*args (Non Keyword Arguments)\n",
    "* \\*kwargs (Keyword Arguments)"
   ]
  },
  {
   "cell_type": "markdown",
   "id": "6f437ca2",
   "metadata": {},
   "source": [
    "## Funções com argumentos variáveis\n",
    "\n",
    "Em python temos algumas formas de passar argumentos para funções além de ter um número fixo de argumentos a serem passados. Vamos ver três formas diferentes de passar esses argumentos."
   ]
  },
  {
   "cell_type": "code",
   "execution_count": 2,
   "id": "a61b9299",
   "metadata": {},
   "outputs": [
    {
     "name": "stdout",
     "output_type": "stream",
     "text": [
      "Olá Wesley, gostaria de te desejar bom dia!\n",
      "Olá José, gostaria de te desejar um excelente dia!!!\n"
     ]
    }
   ],
   "source": [
    "# 1 - Valores default\n",
    "\n",
    "def saudacoes(nome, msg='bom dia!'):\n",
    "    print(f'Olá {nome}, gostaria de te desejar {msg}')\n",
    "    \n",
    "saudacoes('Wesley')\n",
    "saudacoes('José', 'um excelente dia!!!')"
   ]
  },
  {
   "cell_type": "markdown",
   "id": "1c32ffc3",
   "metadata": {},
   "source": [
    "Veja que na função acima o parâmetro msg é opcional, pois já existe um valor default para o mesmo. Uma observação importante é que quando definimos um valor default para um argumento numa função, todos os argumentos à direita também tem que ter valores default."
   ]
  },
  {
   "cell_type": "code",
   "execution_count": 4,
   "id": "772837e4",
   "metadata": {},
   "outputs": [
    {
     "name": "stdout",
     "output_type": "stream",
     "text": [
      "Olá Antonia, gostaria de te desejar bom domingo.\n",
      "Olá Arthur, gostaria de te desejar boa semana!\n"
     ]
    }
   ],
   "source": [
    "# 2 - Uso das keywords na hora de declarar os valores dos parâmetros\n",
    "\n",
    "saudacoes(msg = \"bom domingo.\", nome = \"Antonia\")\n",
    "saudacoes('Arthur', msg = \"boa semana!\")"
   ]
  },
  {
   "cell_type": "markdown",
   "id": "4330028a",
   "metadata": {},
   "source": [
    "Na primeira chamada da função, temos dois argumentos keyword, isso é, dois argumentos que são valorados através das palavras chave. Já na segunda chamada temos um argumento keyword e um argumento posicional. Uma coisa importante é que keyword arguments só podem ser passados após todos os argumentos posicionais serem passados."
   ]
  },
  {
   "cell_type": "code",
   "execution_count": 5,
   "id": "a1539c30",
   "metadata": {},
   "outputs": [
    {
     "name": "stdout",
     "output_type": "stream",
     "text": [
      "Olá Rosana, gostaria de te desejar um bom dia!\n",
      "Olá Marcos, gostaria de te desejar um bom dia!\n",
      "Olá Carlos, gostaria de te desejar um bom dia!\n",
      "Olá Matheus, gostaria de te desejar um bom dia!\n"
     ]
    }
   ],
   "source": [
    "# 3 - Argumentos arbitrários\n",
    "def saudacoes_arb(*nomes, msg = \"um bom dia!\"):\n",
    "    for nome in nomes:\n",
    "        print(f'Olá {nome}, gostaria de te desejar {msg}')\n",
    "\n",
    "saudacoes_arb(\"Rosana\", \"Marcos\", \"Carlos\", \"Matheus\")"
   ]
  },
  {
   "cell_type": "markdown",
   "id": "500ba847",
   "metadata": {},
   "source": [
    "Na nova função definida temos um * antes do parâmetro nomes, isso ocorre, pois não sabemos quantos parâmetros serão passadas e tranformamos nomes em uma tupla que recebe vários valores."
   ]
  },
  {
   "cell_type": "markdown",
   "id": "4b3c6f4c",
   "metadata": {},
   "source": [
    "## Python *args (Non Keyword Arguments)\n",
    "\n",
    "Quando usamos *args, estamos passando um número não definido de argumentos para a nossa função. Para identificar um *args passamos um * antes de declarar o nome do parâmetro. Não é equivalente a usar uma lista ou uma estrutura de dados na passagem, pois não usamos a mesma notação."
   ]
  },
  {
   "cell_type": "code",
   "execution_count": 7,
   "id": "7978b6a4",
   "metadata": {},
   "outputs": [
    {
     "name": "stdout",
     "output_type": "stream",
     "text": [
      "Soma:40\n"
     ]
    }
   ],
   "source": [
    "# Exemplo de função de soma passando argumentos como *args\n",
    "\n",
    "def add(*numeros):\n",
    "    soma = 0\n",
    "    for num in numeros:\n",
    "        soma = soma + num\n",
    "    print(\"Soma:\" + str(soma))\n",
    "\n",
    "add(7,8,190,-200,23,12)"
   ]
  },
  {
   "cell_type": "markdown",
   "id": "d04bec55",
   "metadata": {},
   "source": [
    "Atenção, só podemos passar um argumento *args por função."
   ]
  },
  {
   "cell_type": "markdown",
   "id": "014ed038",
   "metadata": {},
   "source": [
    "## Python **kwargs (Keyword Arguments)\n",
    "\n",
    "Os \\*\\*kwargs são usados para passar uma quantidade variável de argumentos, como os \\*args, porém, os \\*\\*kwargs permitem que os argumentos sejam passados também usando keywords, assim temos uma esécie de dicionário onde temos keys (chaves) e values (valores)."
   ]
  },
  {
   "cell_type": "code",
   "execution_count": 18,
   "id": "25a08c5e",
   "metadata": {},
   "outputs": [
    {
     "name": "stdout",
     "output_type": "stream",
     "text": [
      "Informação\n",
      "Nome\t\tWesley\n",
      "Sobre\t\tLima\n",
      "Idade\t\t21\n",
      "Celular\t\t12345678\n",
      "\n",
      "\n",
      "Informação\n",
      "Nome\t\tMarcio\n",
      "Sobre\t\tDiniz\n",
      "email\t\tmarcio@gmail.com\n",
      "Fixo\t\t98765432\n",
      "\n",
      "\n"
     ]
    }
   ],
   "source": [
    "# Abaixo um exemplo de função de agenda telefônica usando kwargs\n",
    "\n",
    "def agenda(**dados):\n",
    "    print('Informação')\n",
    "    for chave,valor in dados.items():\n",
    "        print(f'{chave}\\t\\t{valor}')\n",
    "    print('\\n')\n",
    "        \n",
    "agenda(Nome = \"Wesley\", Sobre = \"Lima\", Idade = \"21\", Celular = \"12345678\")\n",
    "agenda(Nome = \"Marcio\", Sobre = \"Diniz\", email = \"marcio@gmail.com\", Fixo = \"98765432\")"
   ]
  }
 ],
 "metadata": {
  "kernelspec": {
   "display_name": "Python 3 (ipykernel)",
   "language": "python",
   "name": "python3"
  },
  "language_info": {
   "codemirror_mode": {
    "name": "ipython",
    "version": 3
   },
   "file_extension": ".py",
   "mimetype": "text/x-python",
   "name": "python",
   "nbconvert_exporter": "python",
   "pygments_lexer": "ipython3",
   "version": "3.8.10"
  }
 },
 "nbformat": 4,
 "nbformat_minor": 5
}
